{
 "cells": [
  {
   "cell_type": "markdown",
   "id": "fdd63045-a95b-4a49-80cd-a3931cfe0d1c",
   "metadata": {},
   "source": [
    "+++\n",
    "title = \"Extended Joseph Ring\"\n",
    "date = 2023-03-01T16:04:18+08:00\n",
    "draft = false\n",
    "tags = [\"algorithm\"]\n",
    "keywords = [\"Joseph Ring\"]\n",
    "description = \"Notes for Extended Joseph Ring\"\n",
    "\n",
    "+++\n",
    "\n",
    "# Extended Joseph Ring\n",
    "\n",
    "## The Extension\n",
    "\n",
    "In traditional Joseph Ring, candidates numbered $1, \\cdots, n$ are eliminated $m$ by $m$.\n",
    "\n",
    "An extension to this is choosing different $m$ at each elimination. For example, with $n = 5$ and $k = [1, 2, 3, 4]$, the process is illustrated below:\n",
    "\n",
    "```\n",
    "Original  1 2 3 4 5\n",
    "k = 1     x 1 2 3 4\n",
    "k = 2       3 x 1 2\n",
    "k = 3       x   1 2\n",
    "k = 4           1 x\n",
    "```\n",
    "\n",
    "Eventually, only $4$ is left."
   ]
  },
  {
   "cell_type": "markdown",
   "id": "ed30d77e-6e09-4598-90e3-b36e2fead7a8",
   "metadata": {},
   "source": [
    "## Problem\n",
    "\n",
    "Usually, the problem is to determine which canditate will remain after $n - 1$ rounds of elimination.\n",
    "\n",
    "A simple way is to utilize circular linked list. However, there exists a faster method, which can be extended as well. This method is based on the following result.\n",
    "\n",
    "## A Useful Result\n",
    "\n",
    "We define that before an elimination, remaining candidates are numbered\n",
    "$$1, \\cdots n$$\n",
    "\n",
    "Then, the $k^{\\mathrm{th}}$ candidate is eliminated, leaving\n",
    "$$X = [1, \\cdots, k - 1, k + 1, \\cdots, n]$$\n",
    "which are re-indexed as\n",
    "$$Y = [n - k + 1, \\cdots, n - 1, 1, \\cdots, n - k]$$\n",
    "\n",
    "Actually, it can be verified that there exists a mapping from $X_i$ to $Y_i$:\n",
    "$$Y_i = p(X_i) = (X_i + n - k) \\;\\mathrm{mod}\\; n$$\n",
    "\n",
    "from which we can derive the inverse mapping\n",
    "$$X_i = p^{-1}(Y_i) = (Y_i + k) \\;\\mathrm{mod}\\; n$$\n",
    "\n",
    "Note that for the $\\mathrm{mod}$ operation here,\n",
    "$$0 \\;\\mathrm{mod}\\; n = n$$\n",
    "to make sure $p^{-1}(Y_i)$ is within range of $X_i$."
   ]
  },
  {
   "cell_type": "markdown",
   "id": "cf4944e9-c47c-4958-96e9-b1de113d404a",
   "metadata": {},
   "source": [
    "## Solution\n",
    "\n",
    "The problem can be restated as: Given a set of candidates indexed $1, \\cdots, n$, and a series of $k_1, \\cdots, k_{n-1}$, we need to determine the index for the eventually remaining candidate.\n",
    "\n",
    "For each $k_t$, we define $p_t$ according to the above result. Note that the number of remaining candidates $n$ in $p$'s defination needs to be substituted by $n - t + 1$. Then, we annotate the origin indices with\n",
    "$$X^0 = [1, \\cdots, n]$$\n",
    "\n",
    "After eliminating $k_1$ from $X_0$, the remainings are re-indexed\n",
    "$$X^1_i = p(X^0_i), X^0_i \\ne k_1$$\n",
    "for next round of elimination.\n",
    "\n",
    "The process is repeated for $n - 1$ times, and the final $X^{n - 1}$ only consists of single candidate indexed $1$. The goal is to find out the original index for this candidate.\n",
    "\n",
    "This can be achieved by traversing back the elimination process. Using the previous result, if an item is indexed $x$ in the $t^{\\mathrm{th}}$ round, its index in the ${t-1}^{\\mathrm{th}}$ round must be $p_t^{-1}(x)$. Therfore, the origin index of the final candidate is\n",
    "$$p_1^{-1} \\circ p_2^{-1} \\circ \\cdots \\circ p_{n - 1}^{-1} (1)$$\n",
    "\n",
    "The Rust code for solving the probel is listed below."
   ]
  },
  {
   "cell_type": "code",
   "execution_count": 6,
   "id": "d63ae5f1-fc18-45ff-aad1-36c42ff0dfc0",
   "metadata": {},
   "outputs": [],
   "source": [
    "fn last(n: i32, k_vec: Vec<i32>) -> Result<i32, ()> {\n",
    "    if k_vec.len() != (n - 1).try_into().unwrap() { Err(()) }\n",
    "    else {\n",
    "        \n",
    "        let mut x = 1;\n",
    "        for t in (1..n).rev() {\n",
    "            x = (x + k_vec[usize::try_from(t).unwrap() - 1]) % (n - t + 1);\n",
    "        }\n",
    "        \n",
    "        Ok(x)\n",
    "    }\n",
    "}"
   ]
  },
  {
   "cell_type": "code",
   "execution_count": 7,
   "id": "31f7edb5-3d02-493f-aae1-60c791ba8079",
   "metadata": {},
   "outputs": [
    {
     "name": "stdout",
     "output_type": "stream",
     "text": [
      "The remaining candidate is 4\n"
     ]
    }
   ],
   "source": [
    "let n = 5;\n",
    "let k_vec = vec![1, 2, 3, 4];\n",
    "let x = last(n, k_vec).unwrap();\n",
    "println!(\"The remaining candidate is {}\", x);"
   ]
  },
  {
   "cell_type": "code",
   "execution_count": null,
   "id": "73ad9eab-b745-42bf-92ef-c7af8cd7ac90",
   "metadata": {},
   "outputs": [],
   "source": []
  }
 ],
 "metadata": {
  "kernelspec": {
   "display_name": "Rust",
   "language": "rust",
   "name": "rust"
  },
  "language_info": {
   "codemirror_mode": "rust",
   "file_extension": ".rs",
   "mimetype": "text/rust",
   "name": "Rust",
   "pygment_lexer": "rust",
   "version": ""
  }
 },
 "nbformat": 4,
 "nbformat_minor": 5
}
