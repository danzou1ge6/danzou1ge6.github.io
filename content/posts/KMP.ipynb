{
 "cells": [
  {
   "cell_type": "markdown",
   "id": "7f7db7c6-7d61-4592-91c4-c9339ee5eb9c",
   "metadata": {},
   "source": [
    "+++\n",
    "title = \"KMP String Matching Algorithm\"\n",
    "date = 2023-03-01T16:04:18+08:00\n",
    "draft = false\n",
    "tags = [\"algorithm\"]\n",
    "keywords = [\"KMP\", \"string matching\"]\n",
    "description = \"Notes for KMP String Matching Algorithm\"\n",
    "\n",
    "+++\n",
    "\n",
    "# KMP String Matching Algorithm\n",
    "\n",
    "## Rational\n",
    "\n",
    "Brute-force string matching requires $O(MN)$ time, where $N$ is the length of the **source string** $S$, and $M$ is the length of the **target string** $P$.\n",
    "\n",
    "However, utilizing the following fact, time consumption can be further reduced:\n",
    "\n",
    "For example,\n",
    "```\n",
    "Index: 012345\n",
    "S    = abxabx\n",
    "P    = abxaby       <- Attempt 1\n",
    "          abx       <- Attempt 2\n",
    "```\n",
    "\n",
    "When Attempt 1 failed because $S[5] \\ne P[5]$, $S[:4]$ has already been matched. Noticing that $P$ starts with \"ab\" while $S[3:5]$, which equals $P[3:5]$, is also \"ab\", we can continue matching by aligning \"x\" at $P[2]$ with $S[5]$ as shown in Attempt 2."
   ]
  },
  {
   "cell_type": "markdown",
   "id": "d5f7b11f-f4ff-46fc-921f-29fb933044ce",
   "metadata": {},
   "source": [
    "## The \"next\" Array\n",
    "\n",
    "Therefore, the key to accelerating matching is by locating **longest identical prefix and suffix**(LIPS) in $P[:j]$ for every $j$. We determine these prefixes and suffices with an \"next\" array $W$, defined as\n",
    "\n",
    "$$\n",
    "W[i] = \\max \\left \\\\{k | P[:k] = P[i-k:i] \\right \\\\}\n",
    "$$\n",
    "\n",
    "For example,\n",
    "```\n",
    "Index: 012345\n",
    "P    = abxaby\n",
    "W    = 010012\n",
    "```\n",
    "\n",
    "To calculate $W$ from $P$, we use **recursion**.\n",
    "\n",
    "Firstly, $W[0]$ is certainly $0$.\n",
    "\n",
    "Then, assuming that we have already obtained $W[i] = k$, and there exists $P[k] = P[i]$, we can simply set $W[i + 1]$ to $k + 1$.\n",
    "\n",
    "However, when $P[k] \\ne P[i]$, we will have to look for a shorter LIPS.\n",
    "\n",
    "```\n",
    "Index: 0123456789ABCD\n",
    "P    = abyabxabyabyz\n",
    "       ----  ----|\n",
    "       ----- -----|      <- i = B, W[B] = W[A] + 1\n",
    "       ---      ---|     <- i + 1 = C\n",
    "```\n",
    "\n",
    "For example, when $i = B$, there exists LIPS \"abyab\", however when $i = C$, there only exists shorter \"aby\". Noticing that the shorter prefix, which is \"aby\", can be splitted into two part \"ab\" and \"y\". \"ab\" is actually the LIPS of \"abyab\", which is again the LIPS of $P[:B]$!\n",
    "\n",
    "Therefore, all we have to do when $P[k] \\ne P[i]$ is:\n",
    "\n",
    "- Find the LIPS of $P[:k]$, length of which has been calculated and stored in $W[k] = l$.\n",
    "- See if $P[l] = P[i]$. If so, $W[i + 1]$ would be $l + 1$. Otherwise, $W[i + 1]$ would be 0.\n",
    "\n",
    "The Rust code for solving $W$ is listed below. (To simplify stuff, char codes stored in `Vec<char>` is used instead of UTF-8 encoded `String`)"
   ]
  },
  {
   "cell_type": "code",
   "execution_count": 2,
   "id": "7f9947f3-3642-4bd1-94f2-5d3d0da9bc88",
   "metadata": {},
   "outputs": [],
   "source": [
    "/// Wrapper for [`Vec<char>`]\n",
    "struct Chars(Vec<char>);\n",
    "impl From<&str> for Chars {\n",
    "    fn from(s: &str) -> Self {\n",
    "        Self(s.chars().collect())\n",
    "    }\n",
    "}\n",
    "impl From<&Chars> for String {\n",
    "    fn from(s: &Chars) -> Self {\n",
    "        let mut st = String::new();\n",
    "        for &c in s.0.iter() {\n",
    "            st.push(c);\n",
    "        }\n",
    "        st\n",
    "    }\n",
    "}\n",
    "\n",
    "struct Pattern {\n",
    "    P: Chars,\n",
    "    W: Vec<usize>\n",
    "}\n",
    "\n",
    "impl Pattern {\n",
    "    fn from(P: &str) -> Self {\n",
    "        let P = Chars::from(P);\n",
    "        let mut W = Vec::with_capacity(P.0.len());\n",
    "        W.resize(P.0.len(), 0);\n",
    "        \n",
    "        for i in 1..P.0.len() - 1 {\n",
    "            let k = W[i];\n",
    "            \n",
    "            W[i + 1] = if P.0[i] == P.0[k] {\n",
    "                k + 1\n",
    "            } else {\n",
    "                let l = W[k];\n",
    "                if P.0[l] == P.0[i] { l + 1 } else { 0 }\n",
    "            };\n",
    "        }\n",
    "        \n",
    "        Self { P, W }\n",
    "    }\n",
    "}\n"
   ]
  },
  {
   "cell_type": "code",
   "execution_count": 3,
   "id": "4d8f2e17-3ab0-4ea5-8070-2ea3abdbb155",
   "metadata": {},
   "outputs": [
    {
     "name": "stdout",
     "output_type": "stream",
     "text": [
      "P = abyabxabyabyz\n",
      "W = [0, 0, 0, 0, 1, 2, 0, 1, 2, 3, 4, 5, 3]\n"
     ]
    }
   ],
   "source": [
    "let pat = Pattern::from(\"abyabxabyabyz\");\n",
    "println!(\"P = {}\", String::from(&pat.P));\n",
    "println!(\"W = {:?}\", pat.W);"
   ]
  },
  {
   "cell_type": "markdown",
   "id": "0bc3de0d-ea96-4223-ba12-0fae619f3089",
   "metadata": {},
   "source": [
    "## Matching\n",
    "\n",
    "Now we have the \"next\" array $W$, we can do the matching.\n",
    "\n",
    "For example,\n",
    "\n",
    "```\n",
    "Index: 0123456\n",
    "S    = abyac     <- j is used to index the char to be compared in S\n",
    "           -     <- Mismatch found when i = j = 4\n",
    "P    = abyab     <- i is used to index the char ... in P\n",
    "W    = 00001\n",
    "          abyab  <- i set to W[i] = 1, and compare again\n",
    "```\n",
    "\n",
    "Now mismatch occurred when $i = j = 4$, and all we have to do is to align $P$ again.\n",
    "\n"
   ]
  },
  {
   "cell_type": "code",
   "execution_count": 5,
   "id": "a82c2ea6-a4ac-4f9b-9a9e-a36b9e8b05af",
   "metadata": {},
   "outputs": [],
   "source": [
    "impl Pattern {\n",
    "    fn match_str(&self, s: &str) -> Option<usize> {\n",
    "        let mut i = 0;\n",
    "        let mut j = 0;\n",
    "        let mut chars = s.chars();\n",
    "        let mut c = chars.next();\n",
    "        \n",
    "        loop {\n",
    "            if i >= self.P.0.len() {\n",
    "                return Some(j - self.P.0.len());\n",
    "            }\n",
    "            \n",
    "            match c {\n",
    "                None => return None,\n",
    "                Some(chr) => {\n",
    "                    if self.P.0[i] == chr {\n",
    "                        i += 1;\n",
    "                        c = chars.next();\n",
    "                        j += 1;\n",
    "                    } else {\n",
    "                        if i == 0 {\n",
    "                            c = chars.next();\n",
    "                            j += 1;\n",
    "                        }  // if P[0] mismatched, try j + 1\n",
    "                        else { i = self.W[i]; }\n",
    "                    }\n",
    "                }\n",
    "            }\n",
    "        }\n",
    "    }\n",
    "}"
   ]
  },
  {
   "cell_type": "code",
   "execution_count": 6,
   "id": "1849040a-771a-49a4-9da3-02cac3adf04d",
   "metadata": {},
   "outputs": [
    {
     "name": "stdout",
     "output_type": "stream",
     "text": [
      "Match found at 13\n"
     ]
    }
   ],
   "source": [
    "let idx = pat.match_str(\"ababyyabyabxaabyabxabyabyzab\");\n",
    "//                                    -------------\n",
    "println!(\"Match found at {}\", idx.unwrap());"
   ]
  }
 ],
 "metadata": {
  "kernelspec": {
   "display_name": "Rust",
   "language": "rust",
   "name": "rust"
  },
  "language_info": {
   "codemirror_mode": "rust",
   "file_extension": ".rs",
   "mimetype": "text/rust",
   "name": "Rust",
   "pygment_lexer": "rust",
   "version": ""
  }
 },
 "nbformat": 4,
 "nbformat_minor": 5
}
